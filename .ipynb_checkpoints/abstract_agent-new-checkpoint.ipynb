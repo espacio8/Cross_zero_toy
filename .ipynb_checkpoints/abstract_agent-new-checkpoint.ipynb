{
 "cells": [
  {
   "cell_type": "code",
   "execution_count": 1,
   "metadata": {},
   "outputs": [],
   "source": [
    "import numpy as np\n",
    "import pandas as pd\n",
    "import matplotlib.pyplot as plt\n",
    "import re\n",
    "import ast\n",
    "from tqdm import tqdm\n",
    "import os\n",
    "import json\n",
    "import random \n",
    "import copy"
   ]
  },
  {
   "cell_type": "markdown",
   "metadata": {},
   "source": [
    "### 1. Написать класс, который берет два экземпляра классов агентов и играет"
   ]
  },
  {
   "cell_type": "code",
   "execution_count": 31,
   "metadata": {},
   "outputs": [],
   "source": [
    "weight = False\n",
    "p = 0.3\n",
    "alpha = 0.5\n",
    "percentage = 0.2\n",
    "bound = 0.01\n",
    "update_before_rndom_move = True\n",
    "\n",
    "class AbstractAgent:\n",
    "    def __init__(self, is_zero):\n",
    "        # is_zero = True если 0\n",
    "        # чем ходим what_figure = 1 - крестик , 0 - нолик\n",
    "        # агент сохраняет необходимую информацию в файл c weights{}.csv\n",
    "        self.is_zero = is_zero\n",
    "        self.label = int(not is_zero)\n",
    "        self.way = []\n",
    "        if weight:\n",
    "            self.state_matrix = pd.read_csv('weight{}.csv'.format(self.label), dtype = {'states': object}).set_index('states')\n",
    "            # Мы можем использовать ast.literal_eval() здесь, чтобы оценить строку как выражение Python\n",
    "            self.state_matrix['prob_moves'] = self.state_matrix['prob_moves'].apply(lambda x: ast.literal_eval(x))\n",
    "        else:\n",
    "            self.state_matrix = state_generate(self.is_zero)\n",
    "    def get_action(self, state):\n",
    "        # state - список списков - доска 3x3 [[-1,-1,-1], [-1,-1,-1], [-1,-1,-1]]\n",
    "        #                           крестик - 1, нолик - 0, пусто - -1\n",
    "        # текущее положение\n",
    "        now_state = self.state_matrix.loc[get_code_from_state(state)]\n",
    "        # возможные движения\n",
    "        pos_move = pd.DataFrame(now_state['probable_moves'])\n",
    "        if np.random.random() < p:\n",
    "            new_state = pos_move.sample(n = 1).iloc[0]\n",
    "            new_state_value = self.state_matrix.loc[new_state['state'], 'value']\n",
    "            self.way.append(((now_state.name, now_state.value), (new_state['state'], new_state_value)))\n",
    "        else:\n",
    "            pos_move['value'] = pos_move['state'].apply(lambda x: self.state_matrix.loc[x, 'value'])\n",
    "            new_state = pos_move[pos_move['value']==pos_move['value'].max()].iloc[0]\n",
    "            new_state_value = self.state_matrix.loc[new_state['state'], 'value']\n",
    "            self.way.append(((now_state.name, now_state.value), (new_state['state'], new_state_value)))\n",
    "        return new_state['move'] # координаты поля, куда ходит агент \n",
    "    \n",
    "    def save_weight(self):\n",
    "        # сохраняем матрицу весов в csv\n",
    "        self.state_matrix.to_csv('weight{}.csv'.format(self.label))\n",
    "    def is_done(self, state, reward): #переимен set_reward_and_state\n",
    "        # reward - вознаграждение 1 если выиграли , вызывается когда игра закончена\n",
    "        if reward == 1:\n",
    "            for move in self.way[::-1]:\n",
    "                self.state_matrix.loc[move[0][0], 'value'] = move[0][1] + alpha * (move[1][1] - move[0][1])"
   ]
  },
  {
   "cell_type": "code",
   "execution_count": 3,
   "metadata": {},
   "outputs": [],
   "source": [
    "class AbstractAgent_e:\n",
    "    def __init__(self, is_zero, inheritance, parent_weights):\n",
    "    #is_zero == True если нолик\n",
    "        self.is_zero = is_zero\n",
    "        self.label = int(not is_zero)\n",
    "        # если это дочерний класс\n",
    "        if inheritance:\n",
    "            self.state_matrix = change_states_val(parent_weights, percentage, bound)\n",
    "        else:\n",
    "            if weight:\n",
    "                self.state_matrix = pd.read_csv('weight_e{}.csv'.format(self.label), dtype={'states': object}).set_index('states')\n",
    "                self.state_matrix['prob_moves'] = self.state_matrix['prob_moves'].apply(lambda x: ast.literal_eval(x))\n",
    "            else: # эволюционный генератор\n",
    "                self.state_matrix = state_generate_evolut(self.label)\n",
    "    def get_action(self, state):\n",
    "        now_state = self.state_matrix.loc[get_code_from_state(state)]\n",
    "        pos_move = pd.DataFrame(now_state['probable_moves'])\n",
    "        pos_move['value'] = pos_move['state'].apply(lambda x: self.state_matrix.loc[x, 'value'])\n",
    "        new_state = pos_move[pos_move['value']==pos_move['value'].max()].iloc[0]\n",
    "        return new_state['move']\n",
    "    def save_weight(self):\n",
    "        self.state_matrix.to_csv('weight_e{}.csv'.format(self.label))\n",
    "    def is_done(self, state, reward):\n",
    "        return 0"
   ]
  },
  {
   "cell_type": "code",
   "execution_count": 4,
   "metadata": {},
   "outputs": [],
   "source": [
    "# проверка победы\n",
    "def check_reward (state, label):\n",
    "    for i in range(3):\n",
    "        # проверка по строкам\n",
    "        if np.all(state[i,:] == int(label)):\n",
    "            return True\n",
    "        # проверка по столбцам\n",
    "        elif np.all(state[:,i] == int(label)):\n",
    "            return True\n",
    "        # проверка на обратной дигонали\n",
    "    if np.all(np.fliplr(state).diagonal() == int(label)):\n",
    "        return True\n",
    "    # проверка эл-в на диагонали\n",
    "    if np.all(state.diagonal() == int(label)):\n",
    "        return True\n",
    "    return False"
   ]
  },
  {
   "cell_type": "code",
   "execution_count": 5,
   "metadata": {},
   "outputs": [],
   "source": [
    "# Вывод состояния поля в виде матрицы - ищем цифры, отнимаем 1 и преобразуем в матрицу\n",
    "def get_state_from_code(code):\n",
    "    return np.array(re.findall(r'\\d', code)).reshape((3,3)).astype(int) - 1"
   ]
  },
  {
   "cell_type": "code",
   "execution_count": 6,
   "metadata": {},
   "outputs": [],
   "source": [
    "# Вывод состояния поля по матрице состояния\n",
    "def get_code_from_state(state):\n",
    "    result = ''\n",
    "    for s in (state.flatten() + 1).astype('str'):\n",
    "        result += s\n",
    "    return result"
   ]
  },
  {
   "cell_type": "markdown",
   "metadata": {},
   "source": [
    "Функция выбора след.хода"
   ]
  },
  {
   "cell_type": "code",
   "execution_count": 7,
   "metadata": {},
   "outputs": [],
   "source": [
    "# получение индексов свободных полей\n",
    "def get_free_field(state):\n",
    "    index = []\n",
    "    for i in range(3):\n",
    "        for j in range(3):\n",
    "            if state[i][j] == -1: # поле пусто\n",
    "                index.append((i, j))\n",
    "    return index"
   ]
  },
  {
   "cell_type": "code",
   "execution_count": 8,
   "metadata": {},
   "outputs": [],
   "source": [
    "# получение следующих возможных ходов\n",
    "def get_probable_move_from_code(state, label):\n",
    "    label = str(int(label) + 1)\n",
    "    states = {'state':[], 'move':[]}\n",
    "    for i in range(len(state)):\n",
    "        if state[i] == '0': #пустая клетка\n",
    "            states['state'].append(state[:i]+label+state[i+1:])\n",
    "            states['move'].append((i // 3, i % 3))\n",
    "    return states"
   ]
  },
  {
   "cell_type": "code",
   "execution_count": 9,
   "metadata": {},
   "outputs": [],
   "source": [
    "# создание генератора состояний со следующими ходами\n",
    "def state_generate(label):\n",
    "    states = []\n",
    "    values = []\n",
    "     # координаты поля, куда ходит агент нумерация с 0, те 0,1,2, всего 9 позиций, т.е.3^9\n",
    "    for i in range(19683):\n",
    "        s = np.base_repr(i, base = 3) # строковое представление в троичной системе\n",
    "        s = '0'*(9 - len(s)) + s\n",
    "        states.append(s)\n",
    "        # Ценность выигрышного состояния - 1\n",
    "        if check_reward(get_state_from_code(s), label):\n",
    "            values.append(1)\n",
    "        # Ценность остальных состояний  - 0.5    \n",
    "        else:\n",
    "            values.append(0.5)\n",
    "    states = np.array(states)\n",
    "    pos_st = []\n",
    "    for state_code in states:\n",
    "        pos_st.append(get_probable_move_from_code(state_code, label))\n",
    "    return pd.DataFrame({'states': states, 'value': values, 'probable_moves': pos_st}).set_index('states')"
   ]
  },
  {
   "cell_type": "code",
   "execution_count": 10,
   "metadata": {},
   "outputs": [],
   "source": [
    "# проведение 1 раунда\n",
    "def round_of_play(agent_zeros, agent_cross, print_state = False):\n",
    "    state = (np.zeros((3,3))-1).astype(int) #поле заполнено -1\n",
    "    while -1 in state:\n",
    "        # ход крестика\n",
    "        state[agent_cross.get_action(state)] = 1\n",
    "        if print_state:\n",
    "            print(state)\n",
    "            print()\n",
    "        if check_reward(state, 1):\n",
    "            agent_cross.is_done(state, True)\n",
    "            agent_zeros.is_done(state, False)\n",
    "            return 1 # победа крестика\n",
    "        if not(-1 in state):\n",
    "            break\n",
    "        # ход нолика\n",
    "        state[agent_zeros.get_action(state)] = 0\n",
    "        if print_state:\n",
    "            print(state)\n",
    "            print()\n",
    "        if check_reward(state, 0):\n",
    "            agent_cross.is_done(state, False)\n",
    "            agent_zeros.is_done(state, True)\n",
    "            return 0 # победа нолика\n",
    "     # никто не победил   \n",
    "    agent_cross.is_done(state, False)\n",
    "    agent_zeros.is_done(state, False)\n",
    "    return -1"
   ]
  },
  {
   "cell_type": "markdown",
   "metadata": {},
   "source": [
    "### 2. Реализовать игроков на на основе обучения с подкреплением"
   ]
  },
  {
   "cell_type": "code",
   "execution_count": 11,
   "metadata": {},
   "outputs": [],
   "source": [
    "def fit(agent_zeros, agent_cross, epochs, step_per_epoch, save_config = False, plot_win = False):\n",
    "    history = {\n",
    "        'epoch':[], \n",
    "        'zeros_win':[],\n",
    "        'cross_win':[],\n",
    "        'draw':[]\n",
    "    }\n",
    "    for epoch in tqdm(np.arange(epochs)):\n",
    "        z_win = 0\n",
    "        c_win = 0\n",
    "        draw = 0\n",
    "        for step in np.arange(step_per_epoch):\n",
    "            play_result = round_of_play(agent_zeros, agent_cross)\n",
    "            if play_result == 0:\n",
    "                z_win += 1\n",
    "            elif play_result == 1:\n",
    "                c_win += 1\n",
    "            else:\n",
    "                draw += 1 # ничья\n",
    "        history['epoch'].append(epoch)\n",
    "        history['zeros_win'].append(z_win)\n",
    "        history['cross_win'].append(c_win)\n",
    "        history['draw'].append(draw)\n",
    "    history = pd.DataFrame(history)\n",
    "    if plot_win:\n",
    "        plt.figure(figsize = (10, 8))\n",
    "        plt.plot(history['epoch'], (history['zeros_win']/step_per_epoch)*100, 'b-', label = '% побед нулика в эпохе')\n",
    "        plt.plot(history['epoch'], (history['cross_win']/step_per_epoch)*100, 'r-', label = '% побед крестика в эпохе')\n",
    "        plt.plot(history['epoch'], (history['draw']/step_per_epoch)*100, 'g-', label = '% ничьей в эпохе')\n",
    "        plt.xlim([0,epochs])\n",
    "        plt.ylim([0,101])\n",
    "        plt.grid()\n",
    "        plt.legend()\n",
    "        plt.show()\n",
    "    if save_config:\n",
    "        agent_cross.save_weight()\n",
    "        agent_zeros.save_weight()"
   ]
  },
  {
   "cell_type": "code",
   "execution_count": 12,
   "metadata": {},
   "outputs": [
    {
     "data": {
      "text/plain": [
       "array([[ 1,  1,  1],\n",
       "       [ 1,  0,  0],\n",
       "       [-1,  0, -1]])"
      ]
     },
     "execution_count": 12,
     "metadata": {},
     "output_type": "execute_result"
    }
   ],
   "source": [
    "get_state_from_code('222211010')"
   ]
  },
  {
   "cell_type": "code",
   "execution_count": 13,
   "metadata": {},
   "outputs": [
    {
     "data": {
      "text/plain": [
       "'222211000'"
      ]
     },
     "execution_count": 13,
     "metadata": {},
     "output_type": "execute_result"
    }
   ],
   "source": [
    "get_code_from_state(np.array([[ 1,  1,  1],[ 1,  0,  0], [-1, -1, -1]]))"
   ]
  },
  {
   "cell_type": "code",
   "execution_count": 14,
   "metadata": {},
   "outputs": [
    {
     "data": {
      "text/plain": [
       "{'state': ['222211010', '222011210', '222011012'],\n",
       " 'move': [(1, 0), (2, 0), (2, 2)]}"
      ]
     },
     "execution_count": 14,
     "metadata": {},
     "output_type": "execute_result"
    }
   ],
   "source": [
    "get_probable_move_from_code('222011010', 1)"
   ]
  },
  {
   "cell_type": "code",
   "execution_count": 15,
   "metadata": {},
   "outputs": [
    {
     "data": {
      "text/plain": [
       "{'state': ['100000000',\n",
       "  '010000000',\n",
       "  '001000000',\n",
       "  '000100000',\n",
       "  '000010000',\n",
       "  '000001000',\n",
       "  '000000100',\n",
       "  '000000010',\n",
       "  '000000001'],\n",
       " 'move': [(0, 0),\n",
       "  (0, 1),\n",
       "  (0, 2),\n",
       "  (1, 0),\n",
       "  (1, 1),\n",
       "  (1, 2),\n",
       "  (2, 0),\n",
       "  (2, 1),\n",
       "  (2, 2)]}"
      ]
     },
     "execution_count": 15,
     "metadata": {},
     "output_type": "execute_result"
    }
   ],
   "source": [
    "get_probable_move_from_code('000000000', 0)"
   ]
  },
  {
   "cell_type": "code",
   "execution_count": 16,
   "metadata": {},
   "outputs": [
    {
     "data": {
      "text/html": [
       "<div>\n",
       "<style scoped>\n",
       "    .dataframe tbody tr th:only-of-type {\n",
       "        vertical-align: middle;\n",
       "    }\n",
       "\n",
       "    .dataframe tbody tr th {\n",
       "        vertical-align: top;\n",
       "    }\n",
       "\n",
       "    .dataframe thead th {\n",
       "        text-align: right;\n",
       "    }\n",
       "</style>\n",
       "<table border=\"1\" class=\"dataframe\">\n",
       "  <thead>\n",
       "    <tr style=\"text-align: right;\">\n",
       "      <th></th>\n",
       "      <th>value</th>\n",
       "      <th>probable_moves</th>\n",
       "    </tr>\n",
       "    <tr>\n",
       "      <th>states</th>\n",
       "      <th></th>\n",
       "      <th></th>\n",
       "    </tr>\n",
       "  </thead>\n",
       "  <tbody>\n",
       "    <tr>\n",
       "      <th>000000000</th>\n",
       "      <td>0.5</td>\n",
       "      <td>{'state': ['100000000', '010000000', '00100000...</td>\n",
       "    </tr>\n",
       "    <tr>\n",
       "      <th>000000001</th>\n",
       "      <td>0.5</td>\n",
       "      <td>{'state': ['100000001', '010000001', '00100000...</td>\n",
       "    </tr>\n",
       "    <tr>\n",
       "      <th>000000002</th>\n",
       "      <td>0.5</td>\n",
       "      <td>{'state': ['100000002', '010000002', '00100000...</td>\n",
       "    </tr>\n",
       "    <tr>\n",
       "      <th>000000010</th>\n",
       "      <td>0.5</td>\n",
       "      <td>{'state': ['100000010', '010000010', '00100001...</td>\n",
       "    </tr>\n",
       "    <tr>\n",
       "      <th>000000011</th>\n",
       "      <td>0.5</td>\n",
       "      <td>{'state': ['100000011', '010000011', '00100001...</td>\n",
       "    </tr>\n",
       "    <tr>\n",
       "      <th>...</th>\n",
       "      <td>...</td>\n",
       "      <td>...</td>\n",
       "    </tr>\n",
       "    <tr>\n",
       "      <th>222222211</th>\n",
       "      <td>0.5</td>\n",
       "      <td>{'state': [], 'move': []}</td>\n",
       "    </tr>\n",
       "    <tr>\n",
       "      <th>222222212</th>\n",
       "      <td>0.5</td>\n",
       "      <td>{'state': [], 'move': []}</td>\n",
       "    </tr>\n",
       "    <tr>\n",
       "      <th>222222220</th>\n",
       "      <td>0.5</td>\n",
       "      <td>{'state': ['222222221'], 'move': [(2, 2)]}</td>\n",
       "    </tr>\n",
       "    <tr>\n",
       "      <th>222222221</th>\n",
       "      <td>0.5</td>\n",
       "      <td>{'state': [], 'move': []}</td>\n",
       "    </tr>\n",
       "    <tr>\n",
       "      <th>222222222</th>\n",
       "      <td>0.5</td>\n",
       "      <td>{'state': [], 'move': []}</td>\n",
       "    </tr>\n",
       "  </tbody>\n",
       "</table>\n",
       "<p>19683 rows × 2 columns</p>\n",
       "</div>"
      ],
      "text/plain": [
       "           value                                     probable_moves\n",
       "states                                                             \n",
       "000000000    0.5  {'state': ['100000000', '010000000', '00100000...\n",
       "000000001    0.5  {'state': ['100000001', '010000001', '00100000...\n",
       "000000002    0.5  {'state': ['100000002', '010000002', '00100000...\n",
       "000000010    0.5  {'state': ['100000010', '010000010', '00100001...\n",
       "000000011    0.5  {'state': ['100000011', '010000011', '00100001...\n",
       "...          ...                                                ...\n",
       "222222211    0.5                          {'state': [], 'move': []}\n",
       "222222212    0.5                          {'state': [], 'move': []}\n",
       "222222220    0.5         {'state': ['222222221'], 'move': [(2, 2)]}\n",
       "222222221    0.5                          {'state': [], 'move': []}\n",
       "222222222    0.5                          {'state': [], 'move': []}\n",
       "\n",
       "[19683 rows x 2 columns]"
      ]
     },
     "execution_count": 16,
     "metadata": {},
     "output_type": "execute_result"
    }
   ],
   "source": [
    "state_generate(False) #нолики"
   ]
  },
  {
   "cell_type": "code",
   "execution_count": 17,
   "metadata": {},
   "outputs": [
    {
     "data": {
      "text/html": [
       "<div>\n",
       "<style scoped>\n",
       "    .dataframe tbody tr th:only-of-type {\n",
       "        vertical-align: middle;\n",
       "    }\n",
       "\n",
       "    .dataframe tbody tr th {\n",
       "        vertical-align: top;\n",
       "    }\n",
       "\n",
       "    .dataframe thead th {\n",
       "        text-align: right;\n",
       "    }\n",
       "</style>\n",
       "<table border=\"1\" class=\"dataframe\">\n",
       "  <thead>\n",
       "    <tr style=\"text-align: right;\">\n",
       "      <th></th>\n",
       "      <th>value</th>\n",
       "      <th>probable_moves</th>\n",
       "    </tr>\n",
       "    <tr>\n",
       "      <th>states</th>\n",
       "      <th></th>\n",
       "      <th></th>\n",
       "    </tr>\n",
       "  </thead>\n",
       "  <tbody>\n",
       "    <tr>\n",
       "      <th>000000000</th>\n",
       "      <td>0.5</td>\n",
       "      <td>{'state': ['200000000', '020000000', '00200000...</td>\n",
       "    </tr>\n",
       "    <tr>\n",
       "      <th>000000001</th>\n",
       "      <td>0.5</td>\n",
       "      <td>{'state': ['200000001', '020000001', '00200000...</td>\n",
       "    </tr>\n",
       "    <tr>\n",
       "      <th>000000002</th>\n",
       "      <td>0.5</td>\n",
       "      <td>{'state': ['200000002', '020000002', '00200000...</td>\n",
       "    </tr>\n",
       "    <tr>\n",
       "      <th>000000010</th>\n",
       "      <td>0.5</td>\n",
       "      <td>{'state': ['200000010', '020000010', '00200001...</td>\n",
       "    </tr>\n",
       "    <tr>\n",
       "      <th>000000011</th>\n",
       "      <td>0.5</td>\n",
       "      <td>{'state': ['200000011', '020000011', '00200001...</td>\n",
       "    </tr>\n",
       "    <tr>\n",
       "      <th>...</th>\n",
       "      <td>...</td>\n",
       "      <td>...</td>\n",
       "    </tr>\n",
       "    <tr>\n",
       "      <th>222222211</th>\n",
       "      <td>1.0</td>\n",
       "      <td>{'state': [], 'move': []}</td>\n",
       "    </tr>\n",
       "    <tr>\n",
       "      <th>222222212</th>\n",
       "      <td>1.0</td>\n",
       "      <td>{'state': [], 'move': []}</td>\n",
       "    </tr>\n",
       "    <tr>\n",
       "      <th>222222220</th>\n",
       "      <td>1.0</td>\n",
       "      <td>{'state': ['222222222'], 'move': [(2, 2)]}</td>\n",
       "    </tr>\n",
       "    <tr>\n",
       "      <th>222222221</th>\n",
       "      <td>1.0</td>\n",
       "      <td>{'state': [], 'move': []}</td>\n",
       "    </tr>\n",
       "    <tr>\n",
       "      <th>222222222</th>\n",
       "      <td>1.0</td>\n",
       "      <td>{'state': [], 'move': []}</td>\n",
       "    </tr>\n",
       "  </tbody>\n",
       "</table>\n",
       "<p>19683 rows × 2 columns</p>\n",
       "</div>"
      ],
      "text/plain": [
       "           value                                     probable_moves\n",
       "states                                                             \n",
       "000000000    0.5  {'state': ['200000000', '020000000', '00200000...\n",
       "000000001    0.5  {'state': ['200000001', '020000001', '00200000...\n",
       "000000002    0.5  {'state': ['200000002', '020000002', '00200000...\n",
       "000000010    0.5  {'state': ['200000010', '020000010', '00200001...\n",
       "000000011    0.5  {'state': ['200000011', '020000011', '00200001...\n",
       "...          ...                                                ...\n",
       "222222211    1.0                          {'state': [], 'move': []}\n",
       "222222212    1.0                          {'state': [], 'move': []}\n",
       "222222220    1.0         {'state': ['222222222'], 'move': [(2, 2)]}\n",
       "222222221    1.0                          {'state': [], 'move': []}\n",
       "222222222    1.0                          {'state': [], 'move': []}\n",
       "\n",
       "[19683 rows x 2 columns]"
      ]
     },
     "execution_count": 17,
     "metadata": {},
     "output_type": "execute_result"
    }
   ],
   "source": [
    "state_generate(True) #крестики"
   ]
  },
  {
   "cell_type": "markdown",
   "metadata": {},
   "source": [
    "#### 1 раунд"
   ]
  },
  {
   "cell_type": "code",
   "execution_count": 18,
   "metadata": {},
   "outputs": [],
   "source": [
    "zeros = AbstractAgent(True)\n",
    "cross = AbstractAgent(False)"
   ]
  },
  {
   "cell_type": "code",
   "execution_count": 19,
   "metadata": {},
   "outputs": [
    {
     "name": "stdout",
     "output_type": "stream",
     "text": [
      "[[ 1 -1 -1]\n",
      " [-1 -1 -1]\n",
      " [-1 -1 -1]]\n",
      "\n",
      "[[ 1 -1 -1]\n",
      " [-1  0 -1]\n",
      " [-1 -1 -1]]\n",
      "\n",
      "[[ 1  1 -1]\n",
      " [-1  0 -1]\n",
      " [-1 -1 -1]]\n",
      "\n",
      "[[ 1  1 -1]\n",
      " [-1  0 -1]\n",
      " [ 0 -1 -1]]\n",
      "\n",
      "[[ 1  1  1]\n",
      " [-1  0 -1]\n",
      " [ 0 -1 -1]]\n",
      "\n"
     ]
    },
    {
     "data": {
      "text/plain": [
       "1"
      ]
     },
     "execution_count": 19,
     "metadata": {},
     "output_type": "execute_result"
    }
   ],
   "source": [
    "#1 - победа крестика, 0 - победа нулика, -1 - ничья\n",
    "round_of_play(zeros, cross, print_state = True)"
   ]
  },
  {
   "cell_type": "code",
   "execution_count": 20,
   "metadata": {},
   "outputs": [
    {
     "name": "stderr",
     "output_type": "stream",
     "text": [
      "100%|██████████████████████████████████████████████████████████████████████████████████| 50/50 [29:02<00:00, 34.86s/it]\n"
     ]
    },
    {
     "data": {
      "image/png": "[encoded data removed]",
      "text/plain": [
       "<Figure size 720x576 with 1 Axes>"
      ]
     },
     "metadata": {
      "needs_background": "light"
     },
     "output_type": "display_data"
    }
   ],
   "source": [
    "zeros = AbstractAgent(True)\n",
    "cross = AbstractAgent(False)\n",
    "fit(zeros, cross, epochs = 100, step_per_epoch = 100, save_config = True, plot_win = True)\n",
    "# fit(zeros, cross, epochs = 100, step_per_epoch = 100, save_config = True, plot_win = True)"
   ]
  },
  {
   "cell_type": "markdown",
   "metadata": {},
   "source": [
    "### 3. Реализовать игроков на на основе эволюционного подхода"
   ]
  },
  {
   "cell_type": "code",
   "execution_count": 21,
   "metadata": {},
   "outputs": [],
   "source": [
    "#Начальная инициализация\n",
    "#Случайное распределение весов у стратегий\n",
    "import numpy as np\n",
    "#генерация состояний со следующими ходами\n",
    "def state_generate_evolut(label):\n",
    "    states = []\n",
    "    values = []\n",
    "    for i in range(19683):\n",
    "        s = np.base_repr(i,base=3)\n",
    "        s = '0'*(9-len(s)) + s\n",
    "        states.append(s)\n",
    "        if check_reward(get_state_from_code(s), label):\n",
    "            values.append(1)\n",
    "        else:\n",
    "            values.append(np.random.sample())\n",
    "    states = np.array(states)\n",
    "    pos_st = []\n",
    "    for state_code in states:\n",
    "        pos_st.append(get_probable_move_from_code(state_code, label))\n",
    "    return pd.DataFrame({'states':states, 'value':values,'probable_moves':pos_st}).set_index('states')"
   ]
  },
  {
   "cell_type": "code",
   "execution_count": 22,
   "metadata": {},
   "outputs": [
    {
     "data": {
      "text/html": [
       "<div>\n",
       "<style scoped>\n",
       "    .dataframe tbody tr th:only-of-type {\n",
       "        vertical-align: middle;\n",
       "    }\n",
       "\n",
       "    .dataframe tbody tr th {\n",
       "        vertical-align: top;\n",
       "    }\n",
       "\n",
       "    .dataframe thead th {\n",
       "        text-align: right;\n",
       "    }\n",
       "</style>\n",
       "<table border=\"1\" class=\"dataframe\">\n",
       "  <thead>\n",
       "    <tr style=\"text-align: right;\">\n",
       "      <th></th>\n",
       "      <th>value</th>\n",
       "      <th>probable_moves</th>\n",
       "    </tr>\n",
       "    <tr>\n",
       "      <th>states</th>\n",
       "      <th></th>\n",
       "      <th></th>\n",
       "    </tr>\n",
       "  </thead>\n",
       "  <tbody>\n",
       "    <tr>\n",
       "      <th>000000000</th>\n",
       "      <td>0.925503</td>\n",
       "      <td>{'state': ['100000000', '010000000', '00100000...</td>\n",
       "    </tr>\n",
       "    <tr>\n",
       "      <th>000000001</th>\n",
       "      <td>0.046089</td>\n",
       "      <td>{'state': ['100000001', '010000001', '00100000...</td>\n",
       "    </tr>\n",
       "    <tr>\n",
       "      <th>000000002</th>\n",
       "      <td>0.364359</td>\n",
       "      <td>{'state': ['100000002', '010000002', '00100000...</td>\n",
       "    </tr>\n",
       "    <tr>\n",
       "      <th>000000010</th>\n",
       "      <td>0.774108</td>\n",
       "      <td>{'state': ['100000010', '010000010', '00100001...</td>\n",
       "    </tr>\n",
       "    <tr>\n",
       "      <th>000000011</th>\n",
       "      <td>0.496211</td>\n",
       "      <td>{'state': ['100000011', '010000011', '00100001...</td>\n",
       "    </tr>\n",
       "  </tbody>\n",
       "</table>\n",
       "</div>"
      ],
      "text/plain": [
       "              value                                     probable_moves\n",
       "states                                                                \n",
       "000000000  0.925503  {'state': ['100000000', '010000000', '00100000...\n",
       "000000001  0.046089  {'state': ['100000001', '010000001', '00100000...\n",
       "000000002  0.364359  {'state': ['100000002', '010000002', '00100000...\n",
       "000000010  0.774108  {'state': ['100000010', '010000010', '00100001...\n",
       "000000011  0.496211  {'state': ['100000011', '010000011', '00100001..."
      ]
     },
     "execution_count": 22,
     "metadata": {},
     "output_type": "execute_result"
    }
   ],
   "source": [
    "s = state_generate_evolut(False)\n",
    "s.head()"
   ]
  },
  {
   "cell_type": "code",
   "execution_count": 23,
   "metadata": {},
   "outputs": [
    {
     "data": {
      "text/plain": [
       "'000000001'"
      ]
     },
     "execution_count": 23,
     "metadata": {},
     "output_type": "execute_result"
    }
   ],
   "source": [
    "s.index[1]"
   ]
  },
  {
   "cell_type": "code",
   "execution_count": 24,
   "metadata": {},
   "outputs": [],
   "source": [
    "# изменение весов\n",
    "# perc – доля объектов, которые надо изменить\n",
    "def change_states_val(state_tab, perc, bound):\n",
    "    state_table = state_tab.copy()\n",
    "    \n",
    "    rows_cnt = round(state_table.shape[0] * perc,)\n",
    "    ind_ch = np.random.randint(0, state_table.shape[0], rows_cnt)\n",
    "    for i in ind_ch:\n",
    "        state_table.loc[state_table.index[i],'value'] = (state_table.loc[state_table.index[i],'value'] \n",
    "                                                +(np.random.random() - .5)*2*bound)\n",
    "    return state_table"
   ]
  },
  {
   "cell_type": "code",
   "execution_count": 25,
   "metadata": {},
   "outputs": [
    {
     "data": {
      "text/html": [
       "<div>\n",
       "<style scoped>\n",
       "    .dataframe tbody tr th:only-of-type {\n",
       "        vertical-align: middle;\n",
       "    }\n",
       "\n",
       "    .dataframe tbody tr th {\n",
       "        vertical-align: top;\n",
       "    }\n",
       "\n",
       "    .dataframe thead th {\n",
       "        text-align: right;\n",
       "    }\n",
       "</style>\n",
       "<table border=\"1\" class=\"dataframe\">\n",
       "  <thead>\n",
       "    <tr style=\"text-align: right;\">\n",
       "      <th></th>\n",
       "      <th>value</th>\n",
       "      <th>probable_moves</th>\n",
       "    </tr>\n",
       "    <tr>\n",
       "      <th>states</th>\n",
       "      <th></th>\n",
       "      <th></th>\n",
       "    </tr>\n",
       "  </thead>\n",
       "  <tbody>\n",
       "    <tr>\n",
       "      <th>000000000</th>\n",
       "      <td>0.925503</td>\n",
       "      <td>{'state': ['100000000', '010000000', '00100000...</td>\n",
       "    </tr>\n",
       "    <tr>\n",
       "      <th>000000001</th>\n",
       "      <td>0.066148</td>\n",
       "      <td>{'state': ['100000001', '010000001', '00100000...</td>\n",
       "    </tr>\n",
       "    <tr>\n",
       "      <th>000000002</th>\n",
       "      <td>0.364359</td>\n",
       "      <td>{'state': ['100000002', '010000002', '00100000...</td>\n",
       "    </tr>\n",
       "    <tr>\n",
       "      <th>000000010</th>\n",
       "      <td>0.774108</td>\n",
       "      <td>{'state': ['100000010', '010000010', '00100001...</td>\n",
       "    </tr>\n",
       "    <tr>\n",
       "      <th>000000011</th>\n",
       "      <td>0.496211</td>\n",
       "      <td>{'state': ['100000011', '010000011', '00100001...</td>\n",
       "    </tr>\n",
       "  </tbody>\n",
       "</table>\n",
       "</div>"
      ],
      "text/plain": [
       "              value                                     probable_moves\n",
       "states                                                                \n",
       "000000000  0.925503  {'state': ['100000000', '010000000', '00100000...\n",
       "000000001  0.066148  {'state': ['100000001', '010000001', '00100000...\n",
       "000000002  0.364359  {'state': ['100000002', '010000002', '00100000...\n",
       "000000010  0.774108  {'state': ['100000010', '010000010', '00100001...\n",
       "000000011  0.496211  {'state': ['100000011', '010000011', '00100001..."
      ]
     },
     "execution_count": 25,
     "metadata": {},
     "output_type": "execute_result"
    }
   ],
   "source": [
    "change_states_val(s, 0.7, 0.1).head()"
   ]
  },
  {
   "cell_type": "markdown",
   "metadata": {},
   "source": [
    "#### Наследование\n",
    "Родитель"
   ]
  },
  {
   "cell_type": "code",
   "execution_count": 26,
   "metadata": {},
   "outputs": [],
   "source": [
    "ev_agent_zeros = AbstractAgent_e(is_zero = True, inheritance = False, parent_weights = False)"
   ]
  },
  {
   "cell_type": "code",
   "execution_count": 27,
   "metadata": {},
   "outputs": [
    {
     "data": {
      "text/html": [
       "<div>\n",
       "<style scoped>\n",
       "    .dataframe tbody tr th:only-of-type {\n",
       "        vertical-align: middle;\n",
       "    }\n",
       "\n",
       "    .dataframe tbody tr th {\n",
       "        vertical-align: top;\n",
       "    }\n",
       "\n",
       "    .dataframe thead th {\n",
       "        text-align: right;\n",
       "    }\n",
       "</style>\n",
       "<table border=\"1\" class=\"dataframe\">\n",
       "  <thead>\n",
       "    <tr style=\"text-align: right;\">\n",
       "      <th></th>\n",
       "      <th>value</th>\n",
       "      <th>probable_moves</th>\n",
       "    </tr>\n",
       "    <tr>\n",
       "      <th>states</th>\n",
       "      <th></th>\n",
       "      <th></th>\n",
       "    </tr>\n",
       "  </thead>\n",
       "  <tbody>\n",
       "    <tr>\n",
       "      <th>000000000</th>\n",
       "      <td>0.734216</td>\n",
       "      <td>{'state': ['100000000', '010000000', '00100000...</td>\n",
       "    </tr>\n",
       "    <tr>\n",
       "      <th>000000001</th>\n",
       "      <td>0.846050</td>\n",
       "      <td>{'state': ['100000001', '010000001', '00100000...</td>\n",
       "    </tr>\n",
       "    <tr>\n",
       "      <th>000000002</th>\n",
       "      <td>0.000617</td>\n",
       "      <td>{'state': ['100000002', '010000002', '00100000...</td>\n",
       "    </tr>\n",
       "    <tr>\n",
       "      <th>000000010</th>\n",
       "      <td>0.923296</td>\n",
       "      <td>{'state': ['100000010', '010000010', '00100001...</td>\n",
       "    </tr>\n",
       "    <tr>\n",
       "      <th>000000011</th>\n",
       "      <td>0.379805</td>\n",
       "      <td>{'state': ['100000011', '010000011', '00100001...</td>\n",
       "    </tr>\n",
       "  </tbody>\n",
       "</table>\n",
       "</div>"
      ],
      "text/plain": [
       "              value                                     probable_moves\n",
       "states                                                                \n",
       "000000000  0.734216  {'state': ['100000000', '010000000', '00100000...\n",
       "000000001  0.846050  {'state': ['100000001', '010000001', '00100000...\n",
       "000000002  0.000617  {'state': ['100000002', '010000002', '00100000...\n",
       "000000010  0.923296  {'state': ['100000010', '010000010', '00100001...\n",
       "000000011  0.379805  {'state': ['100000011', '010000011', '00100001..."
      ]
     },
     "execution_count": 27,
     "metadata": {},
     "output_type": "execute_result"
    }
   ],
   "source": [
    "ev_agent_zeros.state_matrix.head()"
   ]
  },
  {
   "cell_type": "markdown",
   "metadata": {},
   "source": [
    "Потомок"
   ]
  },
  {
   "cell_type": "code",
   "execution_count": 32,
   "metadata": {},
   "outputs": [],
   "source": [
    "son_zeros = AbstractAgent_e(is_zero = ev_agent_zeros.is_zero, inheritance = True, parent_weights = ev_agent_zeros.state_matrix)"
   ]
  },
  {
   "cell_type": "code",
   "execution_count": 33,
   "metadata": {},
   "outputs": [
    {
     "data": {
      "text/plain": [
       "0.18198445358939186"
      ]
     },
     "execution_count": 33,
     "metadata": {},
     "output_type": "execute_result"
    }
   ],
   "source": [
    "((son_zeros.state_matrix == ev_agent_zeros.state_matrix)==False).sum()['value']/son_zeros.state_matrix.shape[0]"
   ]
  },
  {
   "cell_type": "markdown",
   "metadata": {},
   "source": [
    "18% параметров потомка отличаются от родителя (максимум задан гиперпараметром)"
   ]
  },
  {
   "cell_type": "markdown",
   "metadata": {},
   "source": [
    "### 4. Пpоведём состязание"
   ]
  },
  {
   "cell_type": "code",
   "execution_count": 34,
   "metadata": {},
   "outputs": [],
   "source": [
    "def get_pinnacle_of_evolution(label, size_of_population, epochs, step_per_epochs, is_rival, rival_agent):\n",
    "    #rival может быть задан изначально, тогда агенты будут тестироваться на нем. Возвращается 1 агент\n",
    "    #Иначе создается две популяции с 0 и Х, возвращается два лучших агента\n",
    "    if is_rival:\n",
    "        #Начальная популяция\n",
    "        #[[agent, %побед], [agent, %побед],...]\n",
    "        population = [[AbstractAgent_e(is_zero = not(label), inheritance = False, parent_weights = False),\n",
    "                       0] for _ in range(size_of_population)]\n",
    "        for epoch in tqdm(range(epochs)):\n",
    "            #каждый играет с заданным соперником step_per_epochs раз\n",
    "            #round_of_play возвращает label победителя, если это label популяции, то эволюционный агент победил\n",
    "            for i in range(size_of_population):\n",
    "                win_i = 0\n",
    "                if label == 0:\n",
    "                    for _ in range(step_per_epochs):\n",
    "                        win_i += int(round_of_play(population[i][0], rival_agent, print_state = False)==label)\n",
    "                else:\n",
    "                    for _ in range(step_per_epochs):\n",
    "                        win_i += int(round_of_play(rival_agent, population[i][0], print_state = False)==label)\n",
    "                population[i][1] = (win_i/step_per_epochs)*100\n",
    "            #отбираем 50% лучших\n",
    "            selection_limit = pd.Series([agent_score[1] for agent_score in population]).quantile(0.5)\n",
    "            agent_id = 0\n",
    "            while agent_id < len(population):\n",
    "                if population[agent_id][1] < selection_limit:\n",
    "                    del population[agent_id]\n",
    "                else:\n",
    "                    agent_id += 1\n",
    "            #генерируем потомков\n",
    "            new_pop = []\n",
    "            for agent_score in population:\n",
    "                new_pop.append([\n",
    "                    AbstractAgent_e(is_zero = agent_score[0].is_zero, inheritance = True,\n",
    "                                  parent_weights = agent_score[0].state_matrix),\n",
    "                    0\n",
    "                ])\n",
    "            population = population + new_pop\n",
    "        best_score = pd.Series([agent_score[1] for agent_score in population]).max()\n",
    "        for agent_score in population:\n",
    "            if agent_score[1] == best_score:\n",
    "                return agent_score[0]"
   ]
  },
  {
   "cell_type": "code",
   "execution_count": null,
   "metadata": {},
   "outputs": [
    {
     "name": "stderr",
     "output_type": "stream",
     "text": [
      "\r",
      "  0%|                                                                                           | 0/20 [00:00<?, ?it/s]"
     ]
    }
   ],
   "source": [
    "ev_agent = get_pinnacle_of_evolution(1, size_of_population=100, epochs=20,\n",
    "                                     step_per_epochs=50, is_rival=True, rival_agent=zeros)"
   ]
  },
  {
   "cell_type": "markdown",
   "metadata": {},
   "source": [
    "### 5. Дополнение: победить https://github.com/dutch-police/TicTacToe/blob/fb508335bc3a86faecb5c1c60d3bee94292f4635/tictactoe.ipynb"
   ]
  },
  {
   "cell_type": "code",
   "execution_count": 37,
   "metadata": {},
   "outputs": [],
   "source": [
    "class Game:\n",
    "    \n",
    "    def __init__(self, field=None):\n",
    "        self.field = None\n",
    "        \n",
    "        if field:\n",
    "            self.field = field\n",
    "        else:\n",
    "            self.start()\n",
    "    \n",
    "    def start(self):\n",
    "        self.field = [' ']*9\n",
    "\n",
    "    def printField(self):\n",
    "        row = ''\n",
    "        for i in range(len(self.field)):\n",
    "            cell = self.field[i]\n",
    "            row+='['\n",
    "            if cell != ' ':\n",
    "                row+=cell\n",
    "            else:\n",
    "                row+=str(i+1)\n",
    "            row+=']'\n",
    "            if (i % 3 == 2): \n",
    "                print(row)\n",
    "                row = ''\n",
    "    \n",
    "    def set(self, position, side):\n",
    "        pos = int(position)-1\n",
    "        self.field[pos] = side\n",
    "\n",
    "    def getFree(self):\n",
    "        free = []\n",
    "        for i in range(len(self.field)):\n",
    "            cell = self.field[i]\n",
    "            if (cell == ' '):\n",
    "                free.append( (i+1) )\n",
    "        return free\n",
    "    \n",
    "    def isDraw(self):\n",
    "        free = self.getFree();\n",
    "        return len(free)==0;\n",
    "    def isWin(self, side):\n",
    "        for i in range(3):\n",
    "            isW = True \n",
    "            for j in range(3):\n",
    "                if self.field[i*3+j]!=side:\n",
    "                    isW = False\n",
    "                    break\n",
    "            if isW:\n",
    "                return isW\n",
    "            \n",
    "        for i in range(3):\n",
    "            isW = True \n",
    "            for j in range(3):\n",
    "                if self.field[j*3+i]!=side:\n",
    "                    isW = False\n",
    "                    break\n",
    "            if isW:\n",
    "                return isW\n",
    "            \n",
    "        isW = True;\n",
    "        for i in range(3):\n",
    "            if self.field[i*3+i]!=side:\n",
    "                isW = False\n",
    "                break\n",
    "        if isW:\n",
    "            return isW\n",
    "        \n",
    "        isWi = True;\n",
    "        for i in range(3):\n",
    "            if self.field[(i*3+2-i)]!=side:\n",
    "                isW = False\n",
    "                break\n",
    "        if isW:\n",
    "            return isW\n",
    "\n",
    "        return False\n",
    "    \n",
    "    def getState(self, side):\n",
    "        if side == 'x':\n",
    "            return self.field\n",
    "\n",
    "        newField = ''\n",
    "        for i in range(len(self.field)):\n",
    "            if self.field[i]=='x':\n",
    "                newField += 'o'\n",
    "            elif self.field[i]=='o':\n",
    "                newField += 'x'\n",
    "            else:\n",
    "                newField += self.field[i] \n",
    "\n",
    "        return newField\n"
   ]
  },
  {
   "cell_type": "code",
   "execution_count": 38,
   "metadata": {},
   "outputs": [],
   "source": [
    "class AI:\n",
    "    def __init__(self):\n",
    "        self.table = {}\n",
    "        if os.path.isfile('./rewards.json'):\n",
    "            with open('rewards.json') as json_file:\n",
    "                self.table = json.load(json_file)\n",
    "                print(\"loaded AI from rewards.json\")\n",
    "\n",
    "    def getReward(self, state):\n",
    "        game = Game(state)\n",
    "        \n",
    "        #если победитель - мы, то оценка состояния игры \"1\"\n",
    "        if game.isWin('x'):\n",
    "            return 1\n",
    "\n",
    "        #если победиль - соперник, то оценка состояния игры \"0\"\n",
    "        if game.isWin('o'):\n",
    "            return 0\n",
    "\n",
    "        #смотрим ценность по таблице\n",
    "        strstate = ''.join(state)\n",
    "        if strstate in self.table.keys():\n",
    "            return self.table[strstate]\n",
    "\n",
    "        #если в таблице нет, то считаем начальной ценностью \"0.5\"\n",
    "        return 0.5\n",
    "\n",
    "    def correct(self, state, newReward):\n",
    "        oldReward = self.getReward(state)\n",
    "        strstate = ''.join(state)\n",
    "        self.table[strstate] = oldReward + 0.1 * (newReward - oldReward)\n",
    "\n",
    "    def save(self):\n",
    "        with open('rewards.json', 'w') as outfile:\n",
    "            json.dump(self.table, outfile)"
   ]
  },
  {
   "cell_type": "code",
   "execution_count": 39,
   "metadata": {},
   "outputs": [],
   "source": [
    "class AIPlayer:\n",
    "    \n",
    "    def __init__(self, side, ai, isGreedy=True):\n",
    "        self.side = side\n",
    "        self.ai = ai\n",
    "        self.oldState = None\n",
    "        self.isGreedy = isGreedy\n",
    "\n",
    "    def getSide(self):\n",
    "        return self.side\n",
    "\n",
    "    def makeStep(self, game):\n",
    "        #получаем список доступных ходов\n",
    "        free = game.getFree()\n",
    "        \n",
    "        #решаем, является ли текущий ход \n",
    "        #зондирующим (случайным) или жадным (максимально выгодным)\n",
    "        \n",
    "        if not self.isGreedy:\n",
    "            #случайный ход\n",
    "            print('Random step')\n",
    "            step = random.choice(free)\n",
    "            game.set(step, self.side)\n",
    "            self.oldState = game.getState(self.side)\n",
    "            return step\n",
    "\n",
    "        #жадный ход\n",
    "        rewards = {}\n",
    "        for step in free:\n",
    "            # для каждого доступного хода оцениваем состояние игры после него\n",
    "            newGame = copy.deepcopy(game)\n",
    "            newGame.set(step, self.side)\n",
    "            rewards[step] = self.ai.getReward(newGame.getState(self.side))\n",
    "\n",
    "        #выясняем, какое вознаграждение оказалось максимальным\n",
    "        maxReward = 0\n",
    "        for reward in rewards.values():\n",
    "            if reward > maxReward:\n",
    "                maxReward = reward\n",
    "\n",
    "        #находим все шаги с максимальным вознаграждением\n",
    "        steps = []\n",
    "        \n",
    "        for step in rewards:\n",
    "            reward = rewards[step]\n",
    "            if (maxReward > (reward - 0.01)) and (maxReward < (reward + 0.01)):\n",
    "                steps.append(step)\n",
    "\n",
    "        #корректируем оценку прошлого состояния\n",
    "        #с учетом ценности нового состояния\n",
    "        if (self.oldState):\n",
    "            self.ai.correct(self.oldState, maxReward)\n",
    "\n",
    "        #выбираем ход из ходов с максимальный вознаграждением\n",
    "        step = random.choice(steps)\n",
    "        game.set(step, self.side)\n",
    "\n",
    "        #сохраняем текущее состояние для того, \n",
    "        #чтобы откорректировать её ценность на следующем ходе\n",
    "        self.oldState = game.getState(self.side)\n",
    "        return step\n",
    "\n",
    "    def loose(self):\n",
    "        #корректируем ценность предыдущего состояния при проигрыше\n",
    "        if self.oldState:\n",
    "            self.ai.correct(self.oldState, 0)\n",
    "\n",
    "    def win(self):\n",
    "        #корректируем ценность предыдущего состояния при выигрыше\n",
    "        if self.oldState:\n",
    "            self.ai.correct(self.oldState, 1)\n",
    "            \n",
    "    def draw(self):\n",
    "        #корректируем ценность предыдущего состояния при ничьей\n",
    "        if self.oldState:\n",
    "            self.ai.correct(self.oldState, 0.5)"
   ]
  },
  {
   "cell_type": "code",
   "execution_count": 40,
   "metadata": {},
   "outputs": [],
   "source": [
    "class UserPlayer:\n",
    "\n",
    "    def __init__(self, side):\n",
    "        self.side = side\n",
    "\n",
    "    def getSide(self):\n",
    "        return self.side\n",
    "\n",
    "    def makeStep(self, game):\n",
    "        game.printField()\n",
    "        \n",
    "        free = game.getFree()\n",
    "\n",
    "        inp = None\n",
    "        while (True):\n",
    "            inp = input()\n",
    "            if int(inp) in free:\n",
    "                break\n",
    "        \n",
    "        game.set(inp, self.side)\n",
    "\n",
    "    def loose(self):\n",
    "        print('you loose')\n",
    "\n",
    "    def win(self):\n",
    "        print('you win')\n",
    "        \n",
    "    def draw(self):\n",
    "        print('draw')"
   ]
  },
  {
   "cell_type": "code",
   "execution_count": 41,
   "metadata": {},
   "outputs": [],
   "source": [
    "def state_to_gmstate(state):\n",
    "    \"\"\"\n",
    "    Переводим состояние игры из формата массива в формат строки,\n",
    "    который используется игрой\n",
    "    \"\"\"\n",
    "    gmstate = []\n",
    "    for row in state:\n",
    "        for ch in row:\n",
    "            if ch == -1:\n",
    "                gmstate.append(' ')\n",
    "            elif ch == 1:\n",
    "                gmstate.append('x')\n",
    "            else:\n",
    "                gmstate.append('o')\n",
    "    return gmstate\n",
    "def gmstep_to_step(step):\n",
    "    \"\"\"\n",
    "    Переводим обозначение хода из принятого в игре \n",
    "    в формат который ожидается на выходе агента\n",
    "    \"\"\"\n",
    "    steps = {\n",
    "        1:(1,1),\n",
    "        2:(1,2),\n",
    "        3:(1,3),\n",
    "        4:(2,1),\n",
    "        5:(2,2),\n",
    "        6:(2,3),\n",
    "        7:(3,1),\n",
    "        8:(3,2),\n",
    "        9:(3,3),\n",
    "    }\n",
    "    return (steps[step][0]-1,steps[step][1]-1)"
   ]
  },
  {
   "cell_type": "code",
   "execution_count": 42,
   "metadata": {},
   "outputs": [],
   "source": [
    "class AgentTicTacGreedy:\n",
    "    def __init__(self, is_zero):\n",
    "        #is_zero == True если нолик\n",
    "        self.player = None\n",
    "        ai = AI()\n",
    "        if is_zero:\n",
    "            self.player = AIPlayer('o', ai, True)\n",
    "        else:\n",
    "            self.player = AIPlayer('x', ai, True)\n",
    "\n",
    "    def get_action(self, state):\n",
    "        # пример state = [[1,0,1],[0,1,0],[0,1,0]] 1 - это крестик, 0 - это нолик, -1 - пусто\n",
    "        gmstate = state_to_gmstate(state)\n",
    "        game = Game(field=gmstate)\n",
    "        move = self.player.makeStep(game)\n",
    "        return gmstep_to_step(move) # возвращаем координаты хода\n",
    "\n",
    "    def is_done(self, state, reward):\n",
    "        # reward - вознаграждение 1 если выиграли , вызывается когда игра закончена\n",
    "        gmstate = state_to_gmstate(state)\n",
    "        game = Game(field=gmstate)\n",
    "        return game.isWin(self.player.getSide())"
   ]
  },
  {
   "cell_type": "code",
   "execution_count": 43,
   "metadata": {},
   "outputs": [
    {
     "name": "stderr",
     "output_type": "stream",
     "text": [
      "100%|██████████████████████████████████████████████████████████████████████████████████| 20/20 [03:56<00:00, 11.82s/it]\n"
     ]
    },
    {
     "data": {
      "image/png": "[encoded data removed]",
      "text/plain": [
       "<Figure size 720x576 with 1 Axes>"
      ]
     },
     "metadata": {
      "needs_background": "light"
     },
     "output_type": "display_data"
    }
   ],
   "source": [
    "zeros = AbstractAgent(True)\n",
    "ones = AgentTicTacGreedy(False)\n",
    "fit(zeros, ones, epochs = 20, step_per_epoch = 50, save_config = False, plot_win = True)"
   ]
  },
  {
   "cell_type": "markdown",
   "metadata": {},
   "source": [
    "#### Вывод: \n",
    "Процент выигрыша нашей модели выше, чем у предлагаемой для сравнения модели."
   ]
  }
 ],
 "metadata": {
  "kernelspec": {
   "display_name": "Python 3",
   "language": "python",
   "name": "python3"
  },
  "language_info": {
   "codemirror_mode": {
    "name": "ipython",
    "version": 3
   },
   "file_extension": ".py",
   "mimetype": "text/x-python",
   "name": "python",
   "nbconvert_exporter": "python",
   "pygments_lexer": "ipython3",
   "version": "3.8.5"
  }
 },
 "nbformat": 4,
 "nbformat_minor": 4
}
